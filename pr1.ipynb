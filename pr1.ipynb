{
 "cells": [
  {
   "cell_type": "code",
   "execution_count": 39,
   "metadata": {},
   "outputs": [],
   "source": [
    "import pyspark"
   ]
  },
  {
   "cell_type": "markdown",
   "metadata": {},
   "source": [
    "### CReating Spark Session\n"
   ]
  },
  {
   "cell_type": "code",
   "execution_count": 40,
   "metadata": {},
   "outputs": [],
   "source": [
    "from pyspark.sql import SparkSession"
   ]
  },
  {
   "cell_type": "code",
   "execution_count": 41,
   "metadata": {},
   "outputs": [],
   "source": [
    "spark =SparkSession.builder.appName('practice').getOrCreate()"
   ]
  },
  {
   "cell_type": "code",
   "execution_count": 42,
   "metadata": {},
   "outputs": [
    {
     "data": {
      "text/html": [
       "\n",
       "            <div>\n",
       "                <p><b>SparkSession - in-memory</b></p>\n",
       "                \n",
       "        <div>\n",
       "            <p><b>SparkContext</b></p>\n",
       "\n",
       "            <p><a href=\"http://AI-iiitg:4040\">Spark UI</a></p>\n",
       "\n",
       "            <dl>\n",
       "              <dt>Version</dt>\n",
       "                <dd><code>v3.3.1</code></dd>\n",
       "              <dt>Master</dt>\n",
       "                <dd><code>local[*]</code></dd>\n",
       "              <dt>AppName</dt>\n",
       "                <dd><code>practice</code></dd>\n",
       "            </dl>\n",
       "        </div>\n",
       "        \n",
       "            </div>\n",
       "        "
      ],
      "text/plain": [
       "<pyspark.sql.session.SparkSession at 0x7f68d01ec670>"
      ]
     },
     "execution_count": 42,
     "metadata": {},
     "output_type": "execute_result"
    }
   ],
   "source": [
    "spark"
   ]
  },
  {
   "cell_type": "code",
   "execution_count": 43,
   "metadata": {},
   "outputs": [],
   "source": [
    "df_spark = spark.read.csv('machine-readable-business-employment-data-june-2022-quarter.csv')"
   ]
  },
  {
   "cell_type": "code",
   "execution_count": 44,
   "metadata": {},
   "outputs": [
    {
     "name": "stdout",
     "output_type": "stream",
     "text": [
      "+----------------+-------+----------+----------+------+------+---------+--------------------+--------------------+--------------+--------------------+--------------+--------------+--------------+\n",
      "|             _c0|    _c1|       _c2|       _c3|   _c4|   _c5|      _c6|                 _c7|                 _c8|           _c9|                _c10|          _c11|          _c12|          _c13|\n",
      "+----------------+-------+----------+----------+------+------+---------+--------------------+--------------------+--------------+--------------------+--------------+--------------+--------------+\n",
      "|Series_reference| Period|Data_value|Suppressed|STATUS| UNITS|Magnitude|             Subject|               Group|Series_title_1|      Series_title_2|Series_title_3|Series_title_4|Series_title_5|\n",
      "|     BDCQ.SEA1AA|2011.06|     80078|      null|     F|Number|        0|Business Data Col...|Industry by emplo...|   Filled jobs|Agriculture, Fore...|        Actual|          null|          null|\n",
      "|     BDCQ.SEA1AA|2011.09|     78324|      null|     F|Number|        0|Business Data Col...|Industry by emplo...|   Filled jobs|Agriculture, Fore...|        Actual|          null|          null|\n",
      "|     BDCQ.SEA1AA|2011.12|     85850|      null|     F|Number|        0|Business Data Col...|Industry by emplo...|   Filled jobs|Agriculture, Fore...|        Actual|          null|          null|\n",
      "|     BDCQ.SEA1AA|2012.03|     90743|      null|     F|Number|        0|Business Data Col...|Industry by emplo...|   Filled jobs|Agriculture, Fore...|        Actual|          null|          null|\n",
      "|     BDCQ.SEA1AA|2012.06|     81780|      null|     F|Number|        0|Business Data Col...|Industry by emplo...|   Filled jobs|Agriculture, Fore...|        Actual|          null|          null|\n",
      "|     BDCQ.SEA1AA|2012.09|     79261|      null|     F|Number|        0|Business Data Col...|Industry by emplo...|   Filled jobs|Agriculture, Fore...|        Actual|          null|          null|\n",
      "|     BDCQ.SEA1AA|2012.12|     87793|      null|     F|Number|        0|Business Data Col...|Industry by emplo...|   Filled jobs|Agriculture, Fore...|        Actual|          null|          null|\n",
      "|     BDCQ.SEA1AA|2013.03|     91571|      null|     F|Number|        0|Business Data Col...|Industry by emplo...|   Filled jobs|Agriculture, Fore...|        Actual|          null|          null|\n",
      "|     BDCQ.SEA1AA|2013.06|     81687|      null|     F|Number|        0|Business Data Col...|Industry by emplo...|   Filled jobs|Agriculture, Fore...|        Actual|          null|          null|\n",
      "|     BDCQ.SEA1AA|2013.09|     81471|      null|     F|Number|        0|Business Data Col...|Industry by emplo...|   Filled jobs|Agriculture, Fore...|        Actual|          null|          null|\n",
      "|     BDCQ.SEA1AA|2013.12|     93950|      null|     F|Number|        0|Business Data Col...|Industry by emplo...|   Filled jobs|Agriculture, Fore...|        Actual|          null|          null|\n",
      "|     BDCQ.SEA1AA|2014.03|     97208|      null|     F|Number|        0|Business Data Col...|Industry by emplo...|   Filled jobs|Agriculture, Fore...|        Actual|          null|          null|\n",
      "|     BDCQ.SEA1AA|2014.06|     85879|      null|     F|Number|        0|Business Data Col...|Industry by emplo...|   Filled jobs|Agriculture, Fore...|        Actual|          null|          null|\n",
      "|     BDCQ.SEA1AA|2014.09|     84447|      null|     F|Number|        0|Business Data Col...|Industry by emplo...|   Filled jobs|Agriculture, Fore...|        Actual|          null|          null|\n",
      "|     BDCQ.SEA1AA|2014.12|     95075|      null|     F|Number|        0|Business Data Col...|Industry by emplo...|   Filled jobs|Agriculture, Fore...|        Actual|          null|          null|\n",
      "|     BDCQ.SEA1AA|2015.03|     98202|      null|     F|Number|        0|Business Data Col...|Industry by emplo...|   Filled jobs|Agriculture, Fore...|        Actual|          null|          null|\n",
      "|     BDCQ.SEA1AA|2015.06|     87987|      null|     F|Number|        0|Business Data Col...|Industry by emplo...|   Filled jobs|Agriculture, Fore...|        Actual|          null|          null|\n",
      "|     BDCQ.SEA1AA|2015.09|     84529|      null|     F|Number|        0|Business Data Col...|Industry by emplo...|   Filled jobs|Agriculture, Fore...|        Actual|          null|          null|\n",
      "|     BDCQ.SEA1AA|2015.12|     96848|      null|     F|Number|        0|Business Data Col...|Industry by emplo...|   Filled jobs|Agriculture, Fore...|        Actual|          null|          null|\n",
      "+----------------+-------+----------+----------+------+------+---------+--------------------+--------------------+--------------+--------------------+--------------+--------------+--------------+\n",
      "only showing top 20 rows\n",
      "\n"
     ]
    }
   ],
   "source": [
    "df_spark.show()"
   ]
  },
  {
   "cell_type": "code",
   "execution_count": 45,
   "metadata": {},
   "outputs": [
    {
     "data": {
      "text/plain": [
       "[Row(_c0='Series_reference', _c1='Period', _c2='Data_value', _c3='Suppressed', _c4='STATUS', _c5='UNITS', _c6='Magnitude', _c7='Subject', _c8='Group', _c9='Series_title_1', _c10='Series_title_2', _c11='Series_title_3', _c12='Series_title_4', _c13='Series_title_5'),\n",
       " Row(_c0='BDCQ.SEA1AA', _c1='2011.06', _c2='80078', _c3=None, _c4='F', _c5='Number', _c6='0', _c7='Business Data Collection - BDC', _c8='Industry by employment variable', _c9='Filled jobs', _c10='Agriculture, Forestry and Fishing', _c11='Actual', _c12=None, _c13=None),\n",
       " Row(_c0='BDCQ.SEA1AA', _c1='2011.09', _c2='78324', _c3=None, _c4='F', _c5='Number', _c6='0', _c7='Business Data Collection - BDC', _c8='Industry by employment variable', _c9='Filled jobs', _c10='Agriculture, Forestry and Fishing', _c11='Actual', _c12=None, _c13=None)]"
      ]
     },
     "execution_count": 45,
     "metadata": {},
     "output_type": "execute_result"
    }
   ],
   "source": [
    "df_spark.head(3)"
   ]
  },
  {
   "cell_type": "code",
   "execution_count": 46,
   "metadata": {},
   "outputs": [
    {
     "name": "stdout",
     "output_type": "stream",
     "text": [
      "root\n",
      " |-- _c0: string (nullable = true)\n",
      " |-- _c1: string (nullable = true)\n",
      " |-- _c2: string (nullable = true)\n",
      " |-- _c3: string (nullable = true)\n",
      " |-- _c4: string (nullable = true)\n",
      " |-- _c5: string (nullable = true)\n",
      " |-- _c6: string (nullable = true)\n",
      " |-- _c7: string (nullable = true)\n",
      " |-- _c8: string (nullable = true)\n",
      " |-- _c9: string (nullable = true)\n",
      " |-- _c10: string (nullable = true)\n",
      " |-- _c11: string (nullable = true)\n",
      " |-- _c12: string (nullable = true)\n",
      " |-- _c13: string (nullable = true)\n",
      "\n"
     ]
    }
   ],
   "source": [
    "df_spark.printSchema()"
   ]
  },
  {
   "cell_type": "code",
   "execution_count": null,
   "metadata": {},
   "outputs": [],
   "source": []
  },
  {
   "cell_type": "markdown",
   "metadata": {},
   "source": [
    "### Read the dataset|"
   ]
  },
  {
   "cell_type": "code",
   "execution_count": 47,
   "metadata": {},
   "outputs": [],
   "source": [
    "df_spark = spark.read.option('header','True').csv('machine-readable-business-employment-data-june-2022-quarter.csv',inferSchema=True)"
   ]
  },
  {
   "cell_type": "markdown",
   "metadata": {},
   "source": [
    "### Check the schema"
   ]
  },
  {
   "cell_type": "code",
   "execution_count": 48,
   "metadata": {},
   "outputs": [
    {
     "name": "stdout",
     "output_type": "stream",
     "text": [
      "+----------------+-------+----------+----------+------+------+---------+--------------------+--------------------+--------------+--------------------+--------------+--------------+--------------+\n",
      "|Series_reference| Period|Data_value|Suppressed|STATUS| UNITS|Magnitude|             Subject|               Group|Series_title_1|      Series_title_2|Series_title_3|Series_title_4|Series_title_5|\n",
      "+----------------+-------+----------+----------+------+------+---------+--------------------+--------------------+--------------+--------------------+--------------+--------------+--------------+\n",
      "|     BDCQ.SEA1AA|2011.06|   80078.0|      null|     F|Number|        0|Business Data Col...|Industry by emplo...|   Filled jobs|Agriculture, Fore...|        Actual|          null|          null|\n",
      "|     BDCQ.SEA1AA|2011.09|   78324.0|      null|     F|Number|        0|Business Data Col...|Industry by emplo...|   Filled jobs|Agriculture, Fore...|        Actual|          null|          null|\n",
      "|     BDCQ.SEA1AA|2011.12|   85850.0|      null|     F|Number|        0|Business Data Col...|Industry by emplo...|   Filled jobs|Agriculture, Fore...|        Actual|          null|          null|\n",
      "|     BDCQ.SEA1AA|2012.03|   90743.0|      null|     F|Number|        0|Business Data Col...|Industry by emplo...|   Filled jobs|Agriculture, Fore...|        Actual|          null|          null|\n",
      "|     BDCQ.SEA1AA|2012.06|   81780.0|      null|     F|Number|        0|Business Data Col...|Industry by emplo...|   Filled jobs|Agriculture, Fore...|        Actual|          null|          null|\n",
      "|     BDCQ.SEA1AA|2012.09|   79261.0|      null|     F|Number|        0|Business Data Col...|Industry by emplo...|   Filled jobs|Agriculture, Fore...|        Actual|          null|          null|\n",
      "|     BDCQ.SEA1AA|2012.12|   87793.0|      null|     F|Number|        0|Business Data Col...|Industry by emplo...|   Filled jobs|Agriculture, Fore...|        Actual|          null|          null|\n",
      "|     BDCQ.SEA1AA|2013.03|   91571.0|      null|     F|Number|        0|Business Data Col...|Industry by emplo...|   Filled jobs|Agriculture, Fore...|        Actual|          null|          null|\n",
      "|     BDCQ.SEA1AA|2013.06|   81687.0|      null|     F|Number|        0|Business Data Col...|Industry by emplo...|   Filled jobs|Agriculture, Fore...|        Actual|          null|          null|\n",
      "|     BDCQ.SEA1AA|2013.09|   81471.0|      null|     F|Number|        0|Business Data Col...|Industry by emplo...|   Filled jobs|Agriculture, Fore...|        Actual|          null|          null|\n",
      "|     BDCQ.SEA1AA|2013.12|   93950.0|      null|     F|Number|        0|Business Data Col...|Industry by emplo...|   Filled jobs|Agriculture, Fore...|        Actual|          null|          null|\n",
      "|     BDCQ.SEA1AA|2014.03|   97208.0|      null|     F|Number|        0|Business Data Col...|Industry by emplo...|   Filled jobs|Agriculture, Fore...|        Actual|          null|          null|\n",
      "|     BDCQ.SEA1AA|2014.06|   85879.0|      null|     F|Number|        0|Business Data Col...|Industry by emplo...|   Filled jobs|Agriculture, Fore...|        Actual|          null|          null|\n",
      "|     BDCQ.SEA1AA|2014.09|   84447.0|      null|     F|Number|        0|Business Data Col...|Industry by emplo...|   Filled jobs|Agriculture, Fore...|        Actual|          null|          null|\n",
      "|     BDCQ.SEA1AA|2014.12|   95075.0|      null|     F|Number|        0|Business Data Col...|Industry by emplo...|   Filled jobs|Agriculture, Fore...|        Actual|          null|          null|\n",
      "|     BDCQ.SEA1AA|2015.03|   98202.0|      null|     F|Number|        0|Business Data Col...|Industry by emplo...|   Filled jobs|Agriculture, Fore...|        Actual|          null|          null|\n",
      "|     BDCQ.SEA1AA|2015.06|   87987.0|      null|     F|Number|        0|Business Data Col...|Industry by emplo...|   Filled jobs|Agriculture, Fore...|        Actual|          null|          null|\n",
      "|     BDCQ.SEA1AA|2015.09|   84529.0|      null|     F|Number|        0|Business Data Col...|Industry by emplo...|   Filled jobs|Agriculture, Fore...|        Actual|          null|          null|\n",
      "|     BDCQ.SEA1AA|2015.12|   96848.0|      null|     F|Number|        0|Business Data Col...|Industry by emplo...|   Filled jobs|Agriculture, Fore...|        Actual|          null|          null|\n",
      "|     BDCQ.SEA1AA|2016.03|   99291.0|      null|     F|Number|        0|Business Data Col...|Industry by emplo...|   Filled jobs|Agriculture, Fore...|        Actual|          null|          null|\n",
      "+----------------+-------+----------+----------+------+------+---------+--------------------+--------------------+--------------+--------------------+--------------+--------------+--------------+\n",
      "only showing top 20 rows\n",
      "\n"
     ]
    }
   ],
   "source": [
    "df_spark= spark.read.csv('machine-readable-business-employment-data-june-2022-quarter.csv', header = True, inferSchema=True)\n",
    "df_spark.show()"
   ]
  },
  {
   "cell_type": "markdown",
   "metadata": {},
   "source": [
    "### dataTypes of columns"
   ]
  },
  {
   "cell_type": "code",
   "execution_count": 49,
   "metadata": {},
   "outputs": [
    {
     "name": "stdout",
     "output_type": "stream",
     "text": [
      "root\n",
      " |-- Series_reference: string (nullable = true)\n",
      " |-- Period: double (nullable = true)\n",
      " |-- Data_value: double (nullable = true)\n",
      " |-- Suppressed: string (nullable = true)\n",
      " |-- STATUS: string (nullable = true)\n",
      " |-- UNITS: string (nullable = true)\n",
      " |-- Magnitude: integer (nullable = true)\n",
      " |-- Subject: string (nullable = true)\n",
      " |-- Group: string (nullable = true)\n",
      " |-- Series_title_1: string (nullable = true)\n",
      " |-- Series_title_2: string (nullable = true)\n",
      " |-- Series_title_3: string (nullable = true)\n",
      " |-- Series_title_4: string (nullable = true)\n",
      " |-- Series_title_5: string (nullable = true)\n",
      "\n"
     ]
    }
   ],
   "source": [
    "df_spark.printSchema()"
   ]
  },
  {
   "cell_type": "code",
   "execution_count": 50,
   "metadata": {},
   "outputs": [
    {
     "data": {
      "text/plain": [
       "pyspark.sql.dataframe.DataFrame"
      ]
     },
     "execution_count": 50,
     "metadata": {},
     "output_type": "execute_result"
    }
   ],
   "source": [
    "type(df_spark)"
   ]
  },
  {
   "cell_type": "code",
   "execution_count": 51,
   "metadata": {},
   "outputs": [
    {
     "data": {
      "text/plain": [
       "['Series_reference',\n",
       " 'Period',\n",
       " 'Data_value',\n",
       " 'Suppressed',\n",
       " 'STATUS',\n",
       " 'UNITS',\n",
       " 'Magnitude',\n",
       " 'Subject',\n",
       " 'Group',\n",
       " 'Series_title_1',\n",
       " 'Series_title_2',\n",
       " 'Series_title_3',\n",
       " 'Series_title_4',\n",
       " 'Series_title_5']"
      ]
     },
     "execution_count": 51,
     "metadata": {},
     "output_type": "execute_result"
    }
   ],
   "source": [
    "df_spark.columns"
   ]
  },
  {
   "cell_type": "code",
   "execution_count": 52,
   "metadata": {},
   "outputs": [
    {
     "data": {
      "text/plain": [
       "[Row(Series_reference='BDCQ.SEA1AA', Period=2011.06, Data_value=80078.0, Suppressed=None, STATUS='F', UNITS='Number', Magnitude=0, Subject='Business Data Collection - BDC', Group='Industry by employment variable', Series_title_1='Filled jobs', Series_title_2='Agriculture, Forestry and Fishing', Series_title_3='Actual', Series_title_4=None, Series_title_5=None),\n",
       " Row(Series_reference='BDCQ.SEA1AA', Period=2011.09, Data_value=78324.0, Suppressed=None, STATUS='F', UNITS='Number', Magnitude=0, Subject='Business Data Collection - BDC', Group='Industry by employment variable', Series_title_1='Filled jobs', Series_title_2='Agriculture, Forestry and Fishing', Series_title_3='Actual', Series_title_4=None, Series_title_5=None)]"
      ]
     },
     "execution_count": 52,
     "metadata": {},
     "output_type": "execute_result"
    }
   ],
   "source": [
    "df_spark.head(2)"
   ]
  },
  {
   "cell_type": "code",
   "execution_count": 53,
   "metadata": {},
   "outputs": [
    {
     "name": "stdout",
     "output_type": "stream",
     "text": [
      "+-------+--------------------+\n",
      "| Period|               Group|\n",
      "+-------+--------------------+\n",
      "|2011.06|Industry by emplo...|\n",
      "|2011.09|Industry by emplo...|\n",
      "|2011.12|Industry by emplo...|\n",
      "|2012.03|Industry by emplo...|\n",
      "|2012.06|Industry by emplo...|\n",
      "|2012.09|Industry by emplo...|\n",
      "|2012.12|Industry by emplo...|\n",
      "|2013.03|Industry by emplo...|\n",
      "|2013.06|Industry by emplo...|\n",
      "|2013.09|Industry by emplo...|\n",
      "|2013.12|Industry by emplo...|\n",
      "|2014.03|Industry by emplo...|\n",
      "|2014.06|Industry by emplo...|\n",
      "|2014.09|Industry by emplo...|\n",
      "|2014.12|Industry by emplo...|\n",
      "|2015.03|Industry by emplo...|\n",
      "|2015.06|Industry by emplo...|\n",
      "|2015.09|Industry by emplo...|\n",
      "|2015.12|Industry by emplo...|\n",
      "|2016.03|Industry by emplo...|\n",
      "+-------+--------------------+\n",
      "only showing top 20 rows\n",
      "\n"
     ]
    }
   ],
   "source": [
    "df_spark.select('Period','Group').show()"
   ]
  },
  {
   "cell_type": "code",
   "execution_count": 54,
   "metadata": {},
   "outputs": [
    {
     "data": {
      "text/plain": [
       "[('Series_reference', 'string'),\n",
       " ('Period', 'double'),\n",
       " ('Data_value', 'double'),\n",
       " ('Suppressed', 'string'),\n",
       " ('STATUS', 'string'),\n",
       " ('UNITS', 'string'),\n",
       " ('Magnitude', 'int'),\n",
       " ('Subject', 'string'),\n",
       " ('Group', 'string'),\n",
       " ('Series_title_1', 'string'),\n",
       " ('Series_title_2', 'string'),\n",
       " ('Series_title_3', 'string'),\n",
       " ('Series_title_4', 'string'),\n",
       " ('Series_title_5', 'string')]"
      ]
     },
     "execution_count": 54,
     "metadata": {},
     "output_type": "execute_result"
    }
   ],
   "source": [
    "df_spark.dtypes"
   ]
  },
  {
   "cell_type": "code",
   "execution_count": 55,
   "metadata": {},
   "outputs": [
    {
     "name": "stderr",
     "output_type": "stream",
     "text": [
      "                                                                                \r"
     ]
    },
    {
     "data": {
      "text/plain": [
       "DataFrame[summary: string, Series_reference: string, Period: string, Data_value: string, Suppressed: string, STATUS: string, UNITS: string, Magnitude: string, Subject: string, Group: string, Series_title_1: string, Series_title_2: string, Series_title_3: string, Series_title_4: string, Series_title_5: string]"
      ]
     },
     "execution_count": 55,
     "metadata": {},
     "output_type": "execute_result"
    }
   ],
   "source": [
    "df_spark.describe()"
   ]
  },
  {
   "cell_type": "code",
   "execution_count": 56,
   "metadata": {},
   "outputs": [
    {
     "name": "stderr",
     "output_type": "stream",
     "text": [
      "[Stage 40:>                                                         (0 + 1) / 1]\r"
     ]
    },
    {
     "name": "stdout",
     "output_type": "stream",
     "text": [
      "+-------+----------------+------------------+-----------------+----------+------+------+------------------+--------------------+--------------------+--------------+---------------+--------------+--------------+--------------+\n",
      "|summary|Series_reference|            Period|       Data_value|Suppressed|STATUS| UNITS|         Magnitude|             Subject|               Group|Series_title_1| Series_title_2|Series_title_3|Series_title_4|Series_title_5|\n",
      "+-------+----------------+------------------+-----------------+----------+------+------+------------------+--------------------+--------------------+--------------+---------------+--------------+--------------+--------------+\n",
      "|  count|           20254|             20254|            15795|      2875| 20254| 20254|             20254|               20254|               20254|         20254|          20254|         20254|             0|             0|\n",
      "|   mean|            null|2016.3436605117113|61578.89286068425|      null|  null|  null| 2.378493137158092|                null|                null|          null|           null|          null|          null|          null|\n",
      "| stddev|            null| 3.215942696094501|186038.0477298779|      null|  null|  null|2.9349879941451604|                null|                null|          null|           null|          null|          null|          null|\n",
      "|    min|     BDCQ.SEA1AA|           2011.06|         1.225683|         Y|     C|Number|                 0|Business Data Col...|Age by employment...|   Filled jobs|          15-19|        Actual|          null|          null|\n",
      "|    max|   BDCQ.SEE3999A|           2022.06|        2196974.0|         Y|     R| Value|                 6|Business Data Col...|Territorial autho...|Total earnings|Wholesale Trade|         Trend|          null|          null|\n",
      "+-------+----------------+------------------+-----------------+----------+------+------+------------------+--------------------+--------------------+--------------+---------------+--------------+--------------+--------------+\n",
      "\n"
     ]
    },
    {
     "name": "stderr",
     "output_type": "stream",
     "text": [
      "                                                                                \r"
     ]
    }
   ],
   "source": [
    "df_spark.describe().show()"
   ]
  },
  {
   "cell_type": "markdown",
   "metadata": {},
   "source": [
    "## Adding columns in DataFrame"
   ]
  },
  {
   "cell_type": "code",
   "execution_count": 57,
   "metadata": {},
   "outputs": [
    {
     "data": {
      "text/plain": [
       "DataFrame[Series_reference: string, Period: double, Data_value: double, Suppressed: string, STATUS: string, UNITS: string, Magnitude: int, Subject: string, Group: string, Series_title_1: string, Series_title_2: string, Series_title_3: string, Series_title_4: string, Series_title_5: string, Change new: int]"
      ]
     },
     "execution_count": 57,
     "metadata": {},
     "output_type": "execute_result"
    }
   ],
   "source": [
    "df_spark.withColumn('Change new',df_spark['Magnitude']+2)"
   ]
  },
  {
   "cell_type": "code",
   "execution_count": 58,
   "metadata": {},
   "outputs": [
    {
     "name": "stdout",
     "output_type": "stream",
     "text": [
      "+----------------+-------+----------+----------+------+------+---------+--------------------+--------------------+--------------+--------------------+--------------+--------------+--------------+\n",
      "|Series_reference| Period|Data_value|Suppressed|STATUS| UNITS|Magnitude|             Subject|               Group|Series_title_1|      Series_title_2|Series_title_3|Series_title_4|Series_title_5|\n",
      "+----------------+-------+----------+----------+------+------+---------+--------------------+--------------------+--------------+--------------------+--------------+--------------+--------------+\n",
      "|     BDCQ.SEA1AA|2011.06|   80078.0|      null|     F|Number|        0|Business Data Col...|Industry by emplo...|   Filled jobs|Agriculture, Fore...|        Actual|          null|          null|\n",
      "|     BDCQ.SEA1AA|2011.09|   78324.0|      null|     F|Number|        0|Business Data Col...|Industry by emplo...|   Filled jobs|Agriculture, Fore...|        Actual|          null|          null|\n",
      "|     BDCQ.SEA1AA|2011.12|   85850.0|      null|     F|Number|        0|Business Data Col...|Industry by emplo...|   Filled jobs|Agriculture, Fore...|        Actual|          null|          null|\n",
      "|     BDCQ.SEA1AA|2012.03|   90743.0|      null|     F|Number|        0|Business Data Col...|Industry by emplo...|   Filled jobs|Agriculture, Fore...|        Actual|          null|          null|\n",
      "|     BDCQ.SEA1AA|2012.06|   81780.0|      null|     F|Number|        0|Business Data Col...|Industry by emplo...|   Filled jobs|Agriculture, Fore...|        Actual|          null|          null|\n",
      "|     BDCQ.SEA1AA|2012.09|   79261.0|      null|     F|Number|        0|Business Data Col...|Industry by emplo...|   Filled jobs|Agriculture, Fore...|        Actual|          null|          null|\n",
      "|     BDCQ.SEA1AA|2012.12|   87793.0|      null|     F|Number|        0|Business Data Col...|Industry by emplo...|   Filled jobs|Agriculture, Fore...|        Actual|          null|          null|\n",
      "|     BDCQ.SEA1AA|2013.03|   91571.0|      null|     F|Number|        0|Business Data Col...|Industry by emplo...|   Filled jobs|Agriculture, Fore...|        Actual|          null|          null|\n",
      "|     BDCQ.SEA1AA|2013.06|   81687.0|      null|     F|Number|        0|Business Data Col...|Industry by emplo...|   Filled jobs|Agriculture, Fore...|        Actual|          null|          null|\n",
      "|     BDCQ.SEA1AA|2013.09|   81471.0|      null|     F|Number|        0|Business Data Col...|Industry by emplo...|   Filled jobs|Agriculture, Fore...|        Actual|          null|          null|\n",
      "|     BDCQ.SEA1AA|2013.12|   93950.0|      null|     F|Number|        0|Business Data Col...|Industry by emplo...|   Filled jobs|Agriculture, Fore...|        Actual|          null|          null|\n",
      "|     BDCQ.SEA1AA|2014.03|   97208.0|      null|     F|Number|        0|Business Data Col...|Industry by emplo...|   Filled jobs|Agriculture, Fore...|        Actual|          null|          null|\n",
      "|     BDCQ.SEA1AA|2014.06|   85879.0|      null|     F|Number|        0|Business Data Col...|Industry by emplo...|   Filled jobs|Agriculture, Fore...|        Actual|          null|          null|\n",
      "|     BDCQ.SEA1AA|2014.09|   84447.0|      null|     F|Number|        0|Business Data Col...|Industry by emplo...|   Filled jobs|Agriculture, Fore...|        Actual|          null|          null|\n",
      "|     BDCQ.SEA1AA|2014.12|   95075.0|      null|     F|Number|        0|Business Data Col...|Industry by emplo...|   Filled jobs|Agriculture, Fore...|        Actual|          null|          null|\n",
      "|     BDCQ.SEA1AA|2015.03|   98202.0|      null|     F|Number|        0|Business Data Col...|Industry by emplo...|   Filled jobs|Agriculture, Fore...|        Actual|          null|          null|\n",
      "|     BDCQ.SEA1AA|2015.06|   87987.0|      null|     F|Number|        0|Business Data Col...|Industry by emplo...|   Filled jobs|Agriculture, Fore...|        Actual|          null|          null|\n",
      "|     BDCQ.SEA1AA|2015.09|   84529.0|      null|     F|Number|        0|Business Data Col...|Industry by emplo...|   Filled jobs|Agriculture, Fore...|        Actual|          null|          null|\n",
      "|     BDCQ.SEA1AA|2015.12|   96848.0|      null|     F|Number|        0|Business Data Col...|Industry by emplo...|   Filled jobs|Agriculture, Fore...|        Actual|          null|          null|\n",
      "|     BDCQ.SEA1AA|2016.03|   99291.0|      null|     F|Number|        0|Business Data Col...|Industry by emplo...|   Filled jobs|Agriculture, Fore...|        Actual|          null|          null|\n",
      "+----------------+-------+----------+----------+------+------+---------+--------------------+--------------------+--------------+--------------------+--------------+--------------+--------------+\n",
      "only showing top 20 rows\n",
      "\n"
     ]
    }
   ],
   "source": [
    "df_spark.show()"
   ]
  },
  {
   "cell_type": "code",
   "execution_count": 59,
   "metadata": {},
   "outputs": [],
   "source": [
    "df_spark=df_spark.drop('Magnitude')"
   ]
  },
  {
   "cell_type": "code",
   "execution_count": 60,
   "metadata": {},
   "outputs": [
    {
     "data": {
      "text/plain": [
       "DataFrame[Series_reference: string, Period: double, Data_value: double, Suppressed: string, STATUS: string, UNITS: string, Subject: string, Group: string, Series_title_1: string, Series_title_2: string, Series_title_3: string, Series_title_4: string, Series_title_5: string]"
      ]
     },
     "execution_count": 60,
     "metadata": {},
     "output_type": "execute_result"
    }
   ],
   "source": [
    "df_spark"
   ]
  },
  {
   "cell_type": "code",
   "execution_count": 61,
   "metadata": {},
   "outputs": [
    {
     "data": {
      "text/plain": [
       "DataFrame[Series_reference: string, Period: double, Data_value: double, Suppressed: string, STATUS: string, UNITS: string, Subject: string, Group: string, Series_title_1: string, Series_title_2: string, Series_title_3: string, Series_title_4: string, Series_title_5: string]"
      ]
     },
     "execution_count": 61,
     "metadata": {},
     "output_type": "execute_result"
    }
   ],
   "source": [
    "df_spark=df_spark.withColumnRenamed('Change new','Magnitude')"
   ]
  },
  {
   "cell_type": "markdown",
   "metadata": {},
   "source": []
  },
  {
   "cell_type": "code",
   "execution_count": null,
   "metadata": {},
   "outputs": [],
   "source": []
  },
  {
   "cell_type": "code",
   "execution_count": null,
   "metadata": {},
   "outputs": [],
   "source": []
  },
  {
   "cell_type": "markdown",
   "metadata": {},
   "source": [
    "# Pyspark Handling Missing Values\n",
    "### -> Dropping Columns \n",
    "### -> Dropping Rows\n",
    "### -> Various Parameters In Dropping functionalities\n",
    "### -> Handling Missing values by MEAN"
   ]
  },
  {
   "cell_type": "markdown",
   "metadata": {},
   "source": []
  },
  {
   "cell_type": "code",
   "execution_count": 72,
   "metadata": {},
   "outputs": [],
   "source": [
    "from pyspark.sql import session\n",
    "spark = SparkSession.builder.appName('Practice').getOrCreate()"
   ]
  },
  {
   "cell_type": "code",
   "execution_count": 73,
   "metadata": {},
   "outputs": [],
   "source": [
    "df = spark.read.csv('./machine-readable-business-employment-data-june-2022-quarter.csv', header=True,inferSchema=True)"
   ]
  },
  {
   "cell_type": "code",
   "execution_count": 75,
   "metadata": {},
   "outputs": [
    {
     "name": "stdout",
     "output_type": "stream",
     "text": [
      "+----------------+-------+----------+----------+------+------+---------+--------------------+--------------------+--------------+--------------------+--------------+--------------+--------------+\n",
      "|Series_reference| Period|Data_value|Suppressed|STATUS| UNITS|Magnitude|             Subject|               Group|Series_title_1|      Series_title_2|Series_title_3|Series_title_4|Series_title_5|\n",
      "+----------------+-------+----------+----------+------+------+---------+--------------------+--------------------+--------------+--------------------+--------------+--------------+--------------+\n",
      "|     BDCQ.SEA1AA|2011.06|   80078.0|      null|     F|Number|        0|Business Data Col...|Industry by emplo...|   Filled jobs|Agriculture, Fore...|        Actual|          null|          null|\n",
      "|     BDCQ.SEA1AA|2011.09|   78324.0|      null|     F|Number|        0|Business Data Col...|Industry by emplo...|   Filled jobs|Agriculture, Fore...|        Actual|          null|          null|\n",
      "|     BDCQ.SEA1AA|2011.12|   85850.0|      null|     F|Number|        0|Business Data Col...|Industry by emplo...|   Filled jobs|Agriculture, Fore...|        Actual|          null|          null|\n",
      "|     BDCQ.SEA1AA|2012.03|   90743.0|      null|     F|Number|        0|Business Data Col...|Industry by emplo...|   Filled jobs|Agriculture, Fore...|        Actual|          null|          null|\n",
      "|     BDCQ.SEA1AA|2012.06|   81780.0|      null|     F|Number|        0|Business Data Col...|Industry by emplo...|   Filled jobs|Agriculture, Fore...|        Actual|          null|          null|\n",
      "|     BDCQ.SEA1AA|2012.09|   79261.0|      null|     F|Number|        0|Business Data Col...|Industry by emplo...|   Filled jobs|Agriculture, Fore...|        Actual|          null|          null|\n",
      "|     BDCQ.SEA1AA|2012.12|   87793.0|      null|     F|Number|        0|Business Data Col...|Industry by emplo...|   Filled jobs|Agriculture, Fore...|        Actual|          null|          null|\n",
      "|     BDCQ.SEA1AA|2013.03|   91571.0|      null|     F|Number|        0|Business Data Col...|Industry by emplo...|   Filled jobs|Agriculture, Fore...|        Actual|          null|          null|\n",
      "|     BDCQ.SEA1AA|2013.06|   81687.0|      null|     F|Number|        0|Business Data Col...|Industry by emplo...|   Filled jobs|Agriculture, Fore...|        Actual|          null|          null|\n",
      "|     BDCQ.SEA1AA|2013.09|   81471.0|      null|     F|Number|        0|Business Data Col...|Industry by emplo...|   Filled jobs|Agriculture, Fore...|        Actual|          null|          null|\n",
      "|     BDCQ.SEA1AA|2013.12|   93950.0|      null|     F|Number|        0|Business Data Col...|Industry by emplo...|   Filled jobs|Agriculture, Fore...|        Actual|          null|          null|\n",
      "|     BDCQ.SEA1AA|2014.03|   97208.0|      null|     F|Number|        0|Business Data Col...|Industry by emplo...|   Filled jobs|Agriculture, Fore...|        Actual|          null|          null|\n",
      "|     BDCQ.SEA1AA|2014.06|   85879.0|      null|     F|Number|        0|Business Data Col...|Industry by emplo...|   Filled jobs|Agriculture, Fore...|        Actual|          null|          null|\n",
      "|     BDCQ.SEA1AA|2014.09|   84447.0|      null|     F|Number|        0|Business Data Col...|Industry by emplo...|   Filled jobs|Agriculture, Fore...|        Actual|          null|          null|\n",
      "|     BDCQ.SEA1AA|2014.12|   95075.0|      null|     F|Number|        0|Business Data Col...|Industry by emplo...|   Filled jobs|Agriculture, Fore...|        Actual|          null|          null|\n",
      "|     BDCQ.SEA1AA|2015.03|   98202.0|      null|     F|Number|        0|Business Data Col...|Industry by emplo...|   Filled jobs|Agriculture, Fore...|        Actual|          null|          null|\n",
      "|     BDCQ.SEA1AA|2015.06|   87987.0|      null|     F|Number|        0|Business Data Col...|Industry by emplo...|   Filled jobs|Agriculture, Fore...|        Actual|          null|          null|\n",
      "|     BDCQ.SEA1AA|2015.09|   84529.0|      null|     F|Number|        0|Business Data Col...|Industry by emplo...|   Filled jobs|Agriculture, Fore...|        Actual|          null|          null|\n",
      "|     BDCQ.SEA1AA|2015.12|   96848.0|      null|     F|Number|        0|Business Data Col...|Industry by emplo...|   Filled jobs|Agriculture, Fore...|        Actual|          null|          null|\n",
      "|     BDCQ.SEA1AA|2016.03|   99291.0|      null|     F|Number|        0|Business Data Col...|Industry by emplo...|   Filled jobs|Agriculture, Fore...|        Actual|          null|          null|\n",
      "+----------------+-------+----------+----------+------+------+---------+--------------------+--------------------+--------------+--------------------+--------------+--------------+--------------+\n",
      "only showing top 20 rows\n",
      "\n"
     ]
    }
   ],
   "source": [
    "df.show()"
   ]
  },
  {
   "cell_type": "code",
   "execution_count": 76,
   "metadata": {},
   "outputs": [
    {
     "name": "stdout",
     "output_type": "stream",
     "text": [
      "+----------------+------+----------+----------+------+-----+---------+-------+-----+--------------+--------------+--------------+--------------+--------------+\n",
      "|Series_reference|Period|Data_value|Suppressed|STATUS|UNITS|Magnitude|Subject|Group|Series_title_1|Series_title_2|Series_title_3|Series_title_4|Series_title_5|\n",
      "+----------------+------+----------+----------+------+-----+---------+-------+-----+--------------+--------------+--------------+--------------+--------------+\n",
      "+----------------+------+----------+----------+------+-----+---------+-------+-----+--------------+--------------+--------------+--------------+--------------+\n",
      "\n"
     ]
    }
   ],
   "source": [
    "# drop the -> rows with null Values\n",
    "df.na.drop().show()"
   ]
  },
  {
   "cell_type": "code",
   "execution_count": 77,
   "metadata": {},
   "outputs": [
    {
     "name": "stdout",
     "output_type": "stream",
     "text": [
      "+----------------+-------+----------+----------+------+------+---------+--------------------+--------------------+--------------+--------------------+--------------+--------------+--------------+\n",
      "|Series_reference| Period|Data_value|Suppressed|STATUS| UNITS|Magnitude|             Subject|               Group|Series_title_1|      Series_title_2|Series_title_3|Series_title_4|Series_title_5|\n",
      "+----------------+-------+----------+----------+------+------+---------+--------------------+--------------------+--------------+--------------------+--------------+--------------+--------------+\n",
      "|     BDCQ.SEA1AA|2011.06|   80078.0|      null|     F|Number|        0|Business Data Col...|Industry by emplo...|   Filled jobs|Agriculture, Fore...|        Actual|          null|          null|\n",
      "|     BDCQ.SEA1AA|2011.09|   78324.0|      null|     F|Number|        0|Business Data Col...|Industry by emplo...|   Filled jobs|Agriculture, Fore...|        Actual|          null|          null|\n",
      "|     BDCQ.SEA1AA|2011.12|   85850.0|      null|     F|Number|        0|Business Data Col...|Industry by emplo...|   Filled jobs|Agriculture, Fore...|        Actual|          null|          null|\n",
      "|     BDCQ.SEA1AA|2012.03|   90743.0|      null|     F|Number|        0|Business Data Col...|Industry by emplo...|   Filled jobs|Agriculture, Fore...|        Actual|          null|          null|\n",
      "|     BDCQ.SEA1AA|2012.06|   81780.0|      null|     F|Number|        0|Business Data Col...|Industry by emplo...|   Filled jobs|Agriculture, Fore...|        Actual|          null|          null|\n",
      "|     BDCQ.SEA1AA|2012.09|   79261.0|      null|     F|Number|        0|Business Data Col...|Industry by emplo...|   Filled jobs|Agriculture, Fore...|        Actual|          null|          null|\n",
      "|     BDCQ.SEA1AA|2012.12|   87793.0|      null|     F|Number|        0|Business Data Col...|Industry by emplo...|   Filled jobs|Agriculture, Fore...|        Actual|          null|          null|\n",
      "|     BDCQ.SEA1AA|2013.03|   91571.0|      null|     F|Number|        0|Business Data Col...|Industry by emplo...|   Filled jobs|Agriculture, Fore...|        Actual|          null|          null|\n",
      "|     BDCQ.SEA1AA|2013.06|   81687.0|      null|     F|Number|        0|Business Data Col...|Industry by emplo...|   Filled jobs|Agriculture, Fore...|        Actual|          null|          null|\n",
      "|     BDCQ.SEA1AA|2013.09|   81471.0|      null|     F|Number|        0|Business Data Col...|Industry by emplo...|   Filled jobs|Agriculture, Fore...|        Actual|          null|          null|\n",
      "|     BDCQ.SEA1AA|2013.12|   93950.0|      null|     F|Number|        0|Business Data Col...|Industry by emplo...|   Filled jobs|Agriculture, Fore...|        Actual|          null|          null|\n",
      "|     BDCQ.SEA1AA|2014.03|   97208.0|      null|     F|Number|        0|Business Data Col...|Industry by emplo...|   Filled jobs|Agriculture, Fore...|        Actual|          null|          null|\n",
      "|     BDCQ.SEA1AA|2014.06|   85879.0|      null|     F|Number|        0|Business Data Col...|Industry by emplo...|   Filled jobs|Agriculture, Fore...|        Actual|          null|          null|\n",
      "|     BDCQ.SEA1AA|2014.09|   84447.0|      null|     F|Number|        0|Business Data Col...|Industry by emplo...|   Filled jobs|Agriculture, Fore...|        Actual|          null|          null|\n",
      "|     BDCQ.SEA1AA|2014.12|   95075.0|      null|     F|Number|        0|Business Data Col...|Industry by emplo...|   Filled jobs|Agriculture, Fore...|        Actual|          null|          null|\n",
      "|     BDCQ.SEA1AA|2015.03|   98202.0|      null|     F|Number|        0|Business Data Col...|Industry by emplo...|   Filled jobs|Agriculture, Fore...|        Actual|          null|          null|\n",
      "|     BDCQ.SEA1AA|2015.06|   87987.0|      null|     F|Number|        0|Business Data Col...|Industry by emplo...|   Filled jobs|Agriculture, Fore...|        Actual|          null|          null|\n",
      "|     BDCQ.SEA1AA|2015.09|   84529.0|      null|     F|Number|        0|Business Data Col...|Industry by emplo...|   Filled jobs|Agriculture, Fore...|        Actual|          null|          null|\n",
      "|     BDCQ.SEA1AA|2015.12|   96848.0|      null|     F|Number|        0|Business Data Col...|Industry by emplo...|   Filled jobs|Agriculture, Fore...|        Actual|          null|          null|\n",
      "|     BDCQ.SEA1AA|2016.03|   99291.0|      null|     F|Number|        0|Business Data Col...|Industry by emplo...|   Filled jobs|Agriculture, Fore...|        Actual|          null|          null|\n",
      "+----------------+-------+----------+----------+------+------+---------+--------------------+--------------------+--------------+--------------------+--------------+--------------+--------------+\n",
      "only showing top 20 rows\n",
      "\n"
     ]
    }
   ],
   "source": [
    "df.show()"
   ]
  },
  {
   "cell_type": "code",
   "execution_count": null,
   "metadata": {},
   "outputs": [],
   "source": []
  },
  {
   "cell_type": "code",
   "execution_count": 81,
   "metadata": {},
   "outputs": [
    {
     "data": {
      "text/plain": [
       "DataFrame[Series_reference: string, Period: double, Data_value: double, Suppressed: string, STATUS: string, UNITS: string, Magnitude: int, Subject: string, Group: string, Series_title_1: string, Series_title_2: string, Series_title_3: string, Series_title_4: string, Series_title_5: string]"
      ]
     },
     "execution_count": 81,
     "metadata": {},
     "output_type": "execute_result"
    }
   ],
   "source": [
    "# all null delete\n",
    "df.na.drop(how=\"all\")"
   ]
  },
  {
   "cell_type": "code",
   "execution_count": 85,
   "metadata": {},
   "outputs": [
    {
     "data": {
      "text/plain": [
       "DataFrame[Series_reference: string, Period: double, Data_value: double, Suppressed: string, STATUS: string, UNITS: string, Magnitude: int, Subject: string, Group: string, Series_title_1: string, Series_title_2: string, Series_title_3: string, Series_title_4: string, Series_title_5: string]"
      ]
     },
     "execution_count": 85,
     "metadata": {},
     "output_type": "execute_result"
    }
   ],
   "source": [
    "# Threshold for na delete \n",
    "df.na.drop(how=\"any\",thresh=2)"
   ]
  },
  {
   "cell_type": "code",
   "execution_count": 89,
   "metadata": {},
   "outputs": [
    {
     "data": {
      "text/plain": [
       "DataFrame[Series_reference: string, Period: double, Data_value: double, Suppressed: string, STATUS: string, UNITS: string, Magnitude: int, Subject: string, Group: string, Series_title_1: string, Series_title_2: string, Series_title_3: string, Series_title_4: string, Series_title_5: string]"
      ]
     },
     "execution_count": 89,
     "metadata": {},
     "output_type": "execute_result"
    }
   ],
   "source": [
    "# Subset -> Column delete containg Na in value\n",
    "df.na.drop(how=\"any\", subset=['Magnitude'])"
   ]
  },
  {
   "cell_type": "code",
   "execution_count": 93,
   "metadata": {},
   "outputs": [
    {
     "name": "stdout",
     "output_type": "stream",
     "text": [
      "+----------------+-------+----------+----------+------+------+---------+--------------------+--------------------+--------------+--------------------+--------------+--------------+--------------+\n",
      "|Series_reference| Period|Data_value|Suppressed|STATUS| UNITS|Magnitude|             Subject|               Group|Series_title_1|      Series_title_2|Series_title_3|Series_title_4|Series_title_5|\n",
      "+----------------+-------+----------+----------+------+------+---------+--------------------+--------------------+--------------+--------------------+--------------+--------------+--------------+\n",
      "|     BDCQ.SEA1AA|2011.06|   80078.0|      null|     F|Number|        0|Business Data Col...|Industry by emplo...|   Filled jobs|Agriculture, Fore...|        Actual|          null|          null|\n",
      "|     BDCQ.SEA1AA|2011.09|   78324.0|      null|     F|Number|        0|Business Data Col...|Industry by emplo...|   Filled jobs|Agriculture, Fore...|        Actual|          null|          null|\n",
      "|     BDCQ.SEA1AA|2011.12|   85850.0|      null|     F|Number|        0|Business Data Col...|Industry by emplo...|   Filled jobs|Agriculture, Fore...|        Actual|          null|          null|\n",
      "|     BDCQ.SEA1AA|2012.03|   90743.0|      null|     F|Number|        0|Business Data Col...|Industry by emplo...|   Filled jobs|Agriculture, Fore...|        Actual|          null|          null|\n",
      "|     BDCQ.SEA1AA|2012.06|   81780.0|      null|     F|Number|        0|Business Data Col...|Industry by emplo...|   Filled jobs|Agriculture, Fore...|        Actual|          null|          null|\n",
      "|     BDCQ.SEA1AA|2012.09|   79261.0|      null|     F|Number|        0|Business Data Col...|Industry by emplo...|   Filled jobs|Agriculture, Fore...|        Actual|          null|          null|\n",
      "|     BDCQ.SEA1AA|2012.12|   87793.0|      null|     F|Number|        0|Business Data Col...|Industry by emplo...|   Filled jobs|Agriculture, Fore...|        Actual|          null|          null|\n",
      "|     BDCQ.SEA1AA|2013.03|   91571.0|      null|     F|Number|        0|Business Data Col...|Industry by emplo...|   Filled jobs|Agriculture, Fore...|        Actual|          null|          null|\n",
      "|     BDCQ.SEA1AA|2013.06|   81687.0|      null|     F|Number|        0|Business Data Col...|Industry by emplo...|   Filled jobs|Agriculture, Fore...|        Actual|          null|          null|\n",
      "|     BDCQ.SEA1AA|2013.09|   81471.0|      null|     F|Number|        0|Business Data Col...|Industry by emplo...|   Filled jobs|Agriculture, Fore...|        Actual|          null|          null|\n",
      "|     BDCQ.SEA1AA|2013.12|   93950.0|      null|     F|Number|        0|Business Data Col...|Industry by emplo...|   Filled jobs|Agriculture, Fore...|        Actual|          null|          null|\n",
      "|     BDCQ.SEA1AA|2014.03|   97208.0|      null|     F|Number|        0|Business Data Col...|Industry by emplo...|   Filled jobs|Agriculture, Fore...|        Actual|          null|          null|\n",
      "|     BDCQ.SEA1AA|2014.06|   85879.0|      null|     F|Number|        0|Business Data Col...|Industry by emplo...|   Filled jobs|Agriculture, Fore...|        Actual|          null|          null|\n",
      "|     BDCQ.SEA1AA|2014.09|   84447.0|      null|     F|Number|        0|Business Data Col...|Industry by emplo...|   Filled jobs|Agriculture, Fore...|        Actual|          null|          null|\n",
      "|     BDCQ.SEA1AA|2014.12|   95075.0|      null|     F|Number|        0|Business Data Col...|Industry by emplo...|   Filled jobs|Agriculture, Fore...|        Actual|          null|          null|\n",
      "|     BDCQ.SEA1AA|2015.03|   98202.0|      null|     F|Number|        0|Business Data Col...|Industry by emplo...|   Filled jobs|Agriculture, Fore...|        Actual|          null|          null|\n",
      "|     BDCQ.SEA1AA|2015.06|   87987.0|      null|     F|Number|        0|Business Data Col...|Industry by emplo...|   Filled jobs|Agriculture, Fore...|        Actual|          null|          null|\n",
      "|     BDCQ.SEA1AA|2015.09|   84529.0|      null|     F|Number|        0|Business Data Col...|Industry by emplo...|   Filled jobs|Agriculture, Fore...|        Actual|          null|          null|\n",
      "|     BDCQ.SEA1AA|2015.12|   96848.0|      null|     F|Number|        0|Business Data Col...|Industry by emplo...|   Filled jobs|Agriculture, Fore...|        Actual|          null|          null|\n",
      "|     BDCQ.SEA1AA|2016.03|   99291.0|      null|     F|Number|        0|Business Data Col...|Industry by emplo...|   Filled jobs|Agriculture, Fore...|        Actual|          null|          null|\n",
      "+----------------+-------+----------+----------+------+------+---------+--------------------+--------------------+--------------+--------------------+--------------+--------------+--------------+\n",
      "only showing top 20 rows\n",
      "\n"
     ]
    }
   ],
   "source": [
    "### Filling the missing Values -> [] -> for multiple columns...\n",
    "df.na.fill('Missing Balues huehue', ['Magnitude']).show()"
   ]
  },
  {
   "cell_type": "code",
   "execution_count": 106,
   "metadata": {},
   "outputs": [],
   "source": [
    "# Imputer Function in Spark\n",
    "from pyspark.ml.feature import Imputer\n",
    "imputer =Imputer(inputCols=['Magnitude','Period'],\n",
    "outputCols=[\"{}_imputed\".format(c) for c in ['Magnitude', 'Period']]\n",
    ").setStrategy(\"mean\")"
   ]
  },
  {
   "cell_type": "code",
   "execution_count": 107,
   "metadata": {},
   "outputs": [
    {
     "data": {
      "text/plain": [
       "[('Series_reference', 'string'),\n",
       " ('Period', 'double'),\n",
       " ('Data_value', 'double'),\n",
       " ('Suppressed', 'string'),\n",
       " ('STATUS', 'string'),\n",
       " ('UNITS', 'string'),\n",
       " ('Magnitude', 'int'),\n",
       " ('Subject', 'string'),\n",
       " ('Group', 'string'),\n",
       " ('Series_title_1', 'string'),\n",
       " ('Series_title_2', 'string'),\n",
       " ('Series_title_3', 'string'),\n",
       " ('Series_title_4', 'string'),\n",
       " ('Series_title_5', 'string')]"
      ]
     },
     "execution_count": 107,
     "metadata": {},
     "output_type": "execute_result"
    }
   ],
   "source": [
    "df.dtypes"
   ]
  },
  {
   "cell_type": "code",
   "execution_count": 109,
   "metadata": {},
   "outputs": [
    {
     "name": "stdout",
     "output_type": "stream",
     "text": [
      "+----------------+-------+----------+----------+------+------+---------+--------------------+--------------------+--------------+--------------------+--------------+--------------+--------------+-----------------+--------------+\n",
      "|Series_reference| Period|Data_value|Suppressed|STATUS| UNITS|Magnitude|             Subject|               Group|Series_title_1|      Series_title_2|Series_title_3|Series_title_4|Series_title_5|Magnitude_imputed|Period_imputed|\n",
      "+----------------+-------+----------+----------+------+------+---------+--------------------+--------------------+--------------+--------------------+--------------+--------------+--------------+-----------------+--------------+\n",
      "|     BDCQ.SEA1AA|2011.06|   80078.0|      null|     F|Number|        0|Business Data Col...|Industry by emplo...|   Filled jobs|Agriculture, Fore...|        Actual|          null|          null|                0|       2011.06|\n",
      "|     BDCQ.SEA1AA|2011.09|   78324.0|      null|     F|Number|        0|Business Data Col...|Industry by emplo...|   Filled jobs|Agriculture, Fore...|        Actual|          null|          null|                0|       2011.09|\n",
      "|     BDCQ.SEA1AA|2011.12|   85850.0|      null|     F|Number|        0|Business Data Col...|Industry by emplo...|   Filled jobs|Agriculture, Fore...|        Actual|          null|          null|                0|       2011.12|\n",
      "|     BDCQ.SEA1AA|2012.03|   90743.0|      null|     F|Number|        0|Business Data Col...|Industry by emplo...|   Filled jobs|Agriculture, Fore...|        Actual|          null|          null|                0|       2012.03|\n",
      "|     BDCQ.SEA1AA|2012.06|   81780.0|      null|     F|Number|        0|Business Data Col...|Industry by emplo...|   Filled jobs|Agriculture, Fore...|        Actual|          null|          null|                0|       2012.06|\n",
      "|     BDCQ.SEA1AA|2012.09|   79261.0|      null|     F|Number|        0|Business Data Col...|Industry by emplo...|   Filled jobs|Agriculture, Fore...|        Actual|          null|          null|                0|       2012.09|\n",
      "|     BDCQ.SEA1AA|2012.12|   87793.0|      null|     F|Number|        0|Business Data Col...|Industry by emplo...|   Filled jobs|Agriculture, Fore...|        Actual|          null|          null|                0|       2012.12|\n",
      "|     BDCQ.SEA1AA|2013.03|   91571.0|      null|     F|Number|        0|Business Data Col...|Industry by emplo...|   Filled jobs|Agriculture, Fore...|        Actual|          null|          null|                0|       2013.03|\n",
      "|     BDCQ.SEA1AA|2013.06|   81687.0|      null|     F|Number|        0|Business Data Col...|Industry by emplo...|   Filled jobs|Agriculture, Fore...|        Actual|          null|          null|                0|       2013.06|\n",
      "|     BDCQ.SEA1AA|2013.09|   81471.0|      null|     F|Number|        0|Business Data Col...|Industry by emplo...|   Filled jobs|Agriculture, Fore...|        Actual|          null|          null|                0|       2013.09|\n",
      "|     BDCQ.SEA1AA|2013.12|   93950.0|      null|     F|Number|        0|Business Data Col...|Industry by emplo...|   Filled jobs|Agriculture, Fore...|        Actual|          null|          null|                0|       2013.12|\n",
      "|     BDCQ.SEA1AA|2014.03|   97208.0|      null|     F|Number|        0|Business Data Col...|Industry by emplo...|   Filled jobs|Agriculture, Fore...|        Actual|          null|          null|                0|       2014.03|\n",
      "|     BDCQ.SEA1AA|2014.06|   85879.0|      null|     F|Number|        0|Business Data Col...|Industry by emplo...|   Filled jobs|Agriculture, Fore...|        Actual|          null|          null|                0|       2014.06|\n",
      "|     BDCQ.SEA1AA|2014.09|   84447.0|      null|     F|Number|        0|Business Data Col...|Industry by emplo...|   Filled jobs|Agriculture, Fore...|        Actual|          null|          null|                0|       2014.09|\n",
      "|     BDCQ.SEA1AA|2014.12|   95075.0|      null|     F|Number|        0|Business Data Col...|Industry by emplo...|   Filled jobs|Agriculture, Fore...|        Actual|          null|          null|                0|       2014.12|\n",
      "|     BDCQ.SEA1AA|2015.03|   98202.0|      null|     F|Number|        0|Business Data Col...|Industry by emplo...|   Filled jobs|Agriculture, Fore...|        Actual|          null|          null|                0|       2015.03|\n",
      "|     BDCQ.SEA1AA|2015.06|   87987.0|      null|     F|Number|        0|Business Data Col...|Industry by emplo...|   Filled jobs|Agriculture, Fore...|        Actual|          null|          null|                0|       2015.06|\n",
      "|     BDCQ.SEA1AA|2015.09|   84529.0|      null|     F|Number|        0|Business Data Col...|Industry by emplo...|   Filled jobs|Agriculture, Fore...|        Actual|          null|          null|                0|       2015.09|\n",
      "|     BDCQ.SEA1AA|2015.12|   96848.0|      null|     F|Number|        0|Business Data Col...|Industry by emplo...|   Filled jobs|Agriculture, Fore...|        Actual|          null|          null|                0|       2015.12|\n",
      "|     BDCQ.SEA1AA|2016.03|   99291.0|      null|     F|Number|        0|Business Data Col...|Industry by emplo...|   Filled jobs|Agriculture, Fore...|        Actual|          null|          null|                0|       2016.03|\n",
      "+----------------+-------+----------+----------+------+------+---------+--------------------+--------------------+--------------+--------------------+--------------+--------------+--------------+-----------------+--------------+\n",
      "only showing top 20 rows\n",
      "\n"
     ]
    }
   ],
   "source": [
    "# Add imputation cols to df \n",
    "imputer.fit(df).transform(df).show()"
   ]
  },
  {
   "cell_type": "code",
   "execution_count": null,
   "metadata": {},
   "outputs": [],
   "source": [
    " "
   ]
  },
  {
   "cell_type": "code",
   "execution_count": null,
   "metadata": {},
   "outputs": [],
   "source": []
  },
  {
   "cell_type": "code",
   "execution_count": null,
   "metadata": {},
   "outputs": [],
   "source": []
  },
  {
   "cell_type": "code",
   "execution_count": null,
   "metadata": {},
   "outputs": [],
   "source": []
  },
  {
   "cell_type": "markdown",
   "metadata": {},
   "source": [
    "# Pyspark DataFrames\n",
    "### Filter OPtions\n",
    "### & , | ,==\n",
    "### ~"
   ]
  },
  {
   "cell_type": "markdown",
   "metadata": {},
   "source": []
  },
  {
   "cell_type": "code",
   "execution_count": 110,
   "metadata": {},
   "outputs": [],
   "source": [
    "from pyspark.sql import SparkSession"
   ]
  },
  {
   "cell_type": "code",
   "execution_count": 121,
   "metadata": {},
   "outputs": [],
   "source": [
    "spark = SparkSession.builder.appName('dataFrame').getOrCreate()"
   ]
  },
  {
   "cell_type": "code",
   "execution_count": 122,
   "metadata": {},
   "outputs": [],
   "source": [
    "df =spark.read.csv('try2.csv',header=True, inferSchema=True)"
   ]
  },
  {
   "cell_type": "code",
   "execution_count": 123,
   "metadata": {},
   "outputs": [
    {
     "name": "stdout",
     "output_type": "stream",
     "text": [
      "+-------+---+----------+------+\n",
      "|   Name|age|Experience|Salary|\n",
      "+-------+---+----------+------+\n",
      "|Harshit|  2|         1|   123|\n",
      "|asdsads|  3|        11|  1234|\n",
      "| qwerty|  2|         5|    12|\n",
      "+-------+---+----------+------+\n",
      "\n"
     ]
    }
   ],
   "source": [
    "df.show()"
   ]
  },
  {
   "cell_type": "markdown",
   "metadata": {},
   "source": [
    "### Filter OPTIONS"
   ]
  },
  {
   "cell_type": "code",
   "execution_count": 124,
   "metadata": {},
   "outputs": [
    {
     "name": "stdout",
     "output_type": "stream",
     "text": [
      "+-------+---+----------+------+\n",
      "|   Name|age|Experience|Salary|\n",
      "+-------+---+----------+------+\n",
      "|Harshit|  2|         1|   123|\n",
      "|asdsads|  3|        11|  1234|\n",
      "+-------+---+----------+------+\n",
      "\n"
     ]
    }
   ],
   "source": [
    "# Experience greater than 4 \n",
    "df.filter(\"Salary>=14\").show()"
   ]
  },
  {
   "cell_type": "code",
   "execution_count": 125,
   "metadata": {},
   "outputs": [
    {
     "name": "stdout",
     "output_type": "stream",
     "text": [
      "+-------+---+\n",
      "|   Name|age|\n",
      "+-------+---+\n",
      "|asdsads|  3|\n",
      "| qwerty|  2|\n",
      "+-------+---+\n",
      "\n"
     ]
    }
   ],
   "source": [
    "df.filter(\"Experience>1\").select([\"Name\",'age']).show()"
   ]
  },
  {
   "cell_type": "code",
   "execution_count": 128,
   "metadata": {},
   "outputs": [
    {
     "name": "stdout",
     "output_type": "stream",
     "text": [
      "+-------+---+----------+------+\n",
      "|   Name|age|Experience|Salary|\n",
      "+-------+---+----------+------+\n",
      "|Harshit|  2|         1|   123|\n",
      "| qwerty|  2|         5|    12|\n",
      "+-------+---+----------+------+\n",
      "\n"
     ]
    }
   ],
   "source": [
    "df.filter(df['Salary']<1234).show()"
   ]
  },
  {
   "cell_type": "code",
   "execution_count": 131,
   "metadata": {},
   "outputs": [
    {
     "name": "stdout",
     "output_type": "stream",
     "text": [
      "+------+---+----------+------+\n",
      "|  Name|age|Experience|Salary|\n",
      "+------+---+----------+------+\n",
      "|qwerty|  2|         5|    12|\n",
      "+------+---+----------+------+\n",
      "\n"
     ]
    }
   ],
   "source": [
    "# & |\n",
    "df.filter((df['Salary']<1234) & (df['Experience']>2)).show()"
   ]
  },
  {
   "cell_type": "code",
   "execution_count": 133,
   "metadata": {},
   "outputs": [
    {
     "name": "stdout",
     "output_type": "stream",
     "text": [
      "+-------+---+----------+------+\n",
      "|   Name|age|Experience|Salary|\n",
      "+-------+---+----------+------+\n",
      "|Harshit|  2|         1|   123|\n",
      "|asdsads|  3|        11|  1234|\n",
      "+-------+---+----------+------+\n",
      "\n"
     ]
    }
   ],
   "source": [
    "df.filter(~((df['Salary']<1234) & (df['Experience']>2))).show()"
   ]
  },
  {
   "cell_type": "code",
   "execution_count": null,
   "metadata": {},
   "outputs": [],
   "source": []
  },
  {
   "cell_type": "code",
   "execution_count": null,
   "metadata": {},
   "outputs": [],
   "source": []
  },
  {
   "cell_type": "code",
   "execution_count": null,
   "metadata": {},
   "outputs": [],
   "source": []
  },
  {
   "cell_type": "markdown",
   "metadata": {},
   "source": [
    "# Pypark GroupBy And Aggregate Functions"
   ]
  },
  {
   "cell_type": "code",
   "execution_count": 134,
   "metadata": {},
   "outputs": [
    {
     "name": "stdout",
     "output_type": "stream",
     "text": [
      "22/11/09 00:00:58 WARN SparkSession: Using an existing Spark session; only runtime SQL configurations will take effect.\n"
     ]
    }
   ],
   "source": [
    "from pyspark.sql import SparkSession\n",
    "spark = SparkSession.builder.appName('Agg').getOrCreate()"
   ]
  },
  {
   "cell_type": "code",
   "execution_count": 135,
   "metadata": {},
   "outputs": [
    {
     "data": {
      "text/html": [
       "\n",
       "            <div>\n",
       "                <p><b>SparkSession - in-memory</b></p>\n",
       "                \n",
       "        <div>\n",
       "            <p><b>SparkContext</b></p>\n",
       "\n",
       "            <p><a href=\"http://AI-iiitg:4040\">Spark UI</a></p>\n",
       "\n",
       "            <dl>\n",
       "              <dt>Version</dt>\n",
       "                <dd><code>v3.3.1</code></dd>\n",
       "              <dt>Master</dt>\n",
       "                <dd><code>local[*]</code></dd>\n",
       "              <dt>AppName</dt>\n",
       "                <dd><code>practice</code></dd>\n",
       "            </dl>\n",
       "        </div>\n",
       "        \n",
       "            </div>\n",
       "        "
      ],
      "text/plain": [
       "<pyspark.sql.session.SparkSession at 0x7f68d01ec670>"
      ]
     },
     "execution_count": 135,
     "metadata": {},
     "output_type": "execute_result"
    }
   ],
   "source": [
    "spark"
   ]
  },
  {
   "cell_type": "code",
   "execution_count": 146,
   "metadata": {},
   "outputs": [],
   "source": [
    "df= spark.read.csv('./test3.csv',header=True,inferSchema=True)"
   ]
  },
  {
   "cell_type": "code",
   "execution_count": 147,
   "metadata": {},
   "outputs": [
    {
     "name": "stdout",
     "output_type": "stream",
     "text": [
      "+---------+------------+------+\n",
      "|     Name| Departments|salary|\n",
      "+---------+------------+------+\n",
      "|    Krish|Data Science| 10000|\n",
      "|    Krish|         IOT|  5000|\n",
      "|   Mahesh|    Big Data|  4000|\n",
      "|    Krish|    Big Data|  4000|\n",
      "|   Mahesh|Data Science|  3000|\n",
      "|Sudhanshu|Data Science| 20000|\n",
      "|Sudhanshu|         IOT| 10000|\n",
      "|Sudhanshu|    Big Data|  5000|\n",
      "|    Sunny|Data Science| 10000|\n",
      "|    Sunny|    Big Data|  2000|\n",
      "+---------+------------+------+\n",
      "\n"
     ]
    }
   ],
   "source": [
    "df.show()"
   ]
  },
  {
   "cell_type": "code",
   "execution_count": 148,
   "metadata": {},
   "outputs": [
    {
     "name": "stdout",
     "output_type": "stream",
     "text": [
      "root\n",
      " |-- Name: string (nullable = true)\n",
      " |-- Departments: string (nullable = true)\n",
      " |-- salary: integer (nullable = true)\n",
      "\n"
     ]
    }
   ],
   "source": [
    "df.printSchema()"
   ]
  },
  {
   "cell_type": "code",
   "execution_count": 149,
   "metadata": {},
   "outputs": [
    {
     "name": "stdout",
     "output_type": "stream",
     "text": [
      "+---------+-----------+\n",
      "|     Name|sum(salary)|\n",
      "+---------+-----------+\n",
      "|Sudhanshu|      35000|\n",
      "|    Sunny|      12000|\n",
      "|    Krish|      19000|\n",
      "|   Mahesh|       7000|\n",
      "+---------+-----------+\n",
      "\n"
     ]
    }
   ],
   "source": [
    "## Group By \n",
    "### Grouped to find the maximum Salary \n",
    "df.groupBy('Name').sum().show()"
   ]
  },
  {
   "cell_type": "code",
   "execution_count": 152,
   "metadata": {},
   "outputs": [
    {
     "name": "stdout",
     "output_type": "stream",
     "text": [
      "+------------+-----------+\n",
      "| Departments|sum(salary)|\n",
      "+------------+-----------+\n",
      "|         IOT|      15000|\n",
      "|    Big Data|      15000|\n",
      "|Data Science|      43000|\n",
      "+------------+-----------+\n",
      "\n"
     ]
    }
   ],
   "source": [
    "## Group Departments which gives max salary \n",
    "df.groupBy('Departments').sum().show() # name removed"
   ]
  },
  {
   "cell_type": "code",
   "execution_count": 161,
   "metadata": {},
   "outputs": [
    {
     "name": "stdout",
     "output_type": "stream",
     "text": [
      "+------------+-----------+\n",
      "| Departments|avg(salary)|\n",
      "+------------+-----------+\n",
      "|         IOT|     7500.0|\n",
      "|    Big Data|     3750.0|\n",
      "|Data Science|    10750.0|\n",
      "+------------+-----------+\n",
      "\n"
     ]
    }
   ],
   "source": [
    "df.groupBy('Departments').mean().show() # name removed"
   ]
  },
  {
   "cell_type": "code",
   "execution_count": 162,
   "metadata": {},
   "outputs": [
    {
     "name": "stdout",
     "output_type": "stream",
     "text": [
      "+---------+------------+------+\n",
      "|     Name| Departments|salary|\n",
      "+---------+------------+------+\n",
      "|    Krish|Data Science| 10000|\n",
      "|    Krish|         IOT|  5000|\n",
      "|   Mahesh|    Big Data|  4000|\n",
      "|    Krish|    Big Data|  4000|\n",
      "|   Mahesh|Data Science|  3000|\n",
      "|Sudhanshu|Data Science| 20000|\n",
      "|Sudhanshu|         IOT| 10000|\n",
      "|Sudhanshu|    Big Data|  5000|\n",
      "|    Sunny|Data Science| 10000|\n",
      "|    Sunny|    Big Data|  2000|\n",
      "+---------+------------+------+\n",
      "\n"
     ]
    }
   ],
   "source": [
    "df.show()"
   ]
  },
  {
   "cell_type": "code",
   "execution_count": 160,
   "metadata": {},
   "outputs": [
    {
     "name": "stdout",
     "output_type": "stream",
     "text": [
      "root\n",
      " |-- Name: string (nullable = true)\n",
      " |-- Departments: string (nullable = true)\n",
      " |-- salary: integer (nullable = true)\n",
      "\n"
     ]
    }
   ],
   "source": [
    "df.printSchema()"
   ]
  },
  {
   "cell_type": "code",
   "execution_count": 163,
   "metadata": {},
   "outputs": [
    {
     "name": "stdout",
     "output_type": "stream",
     "text": [
      "+------------+-----+\n",
      "| Departments|count|\n",
      "+------------+-----+\n",
      "|         IOT|    2|\n",
      "|    Big Data|    4|\n",
      "|Data Science|    4|\n",
      "+------------+-----+\n",
      "\n"
     ]
    }
   ],
   "source": [
    "df.groupBy('Departments').count().show()"
   ]
  },
  {
   "cell_type": "code",
   "execution_count": 164,
   "metadata": {},
   "outputs": [
    {
     "name": "stdout",
     "output_type": "stream",
     "text": [
      "+-----------+\n",
      "|sum(salary)|\n",
      "+-----------+\n",
      "|      73000|\n",
      "+-----------+\n",
      "\n"
     ]
    }
   ],
   "source": [
    "# agg sum -> salary \n",
    "df.agg({'salary':'sum'}).show()"
   ]
  },
  {
   "cell_type": "code",
   "execution_count": null,
   "metadata": {},
   "outputs": [],
   "source": []
  },
  {
   "cell_type": "code",
   "execution_count": null,
   "metadata": {},
   "outputs": [],
   "source": []
  },
  {
   "cell_type": "markdown",
   "metadata": {},
   "source": [
    "# Two -> ways RDD and Dataframe API"
   ]
  },
  {
   "cell_type": "code",
   "execution_count": null,
   "metadata": {},
   "outputs": [],
   "source": []
  },
  {
   "cell_type": "code",
   "execution_count": null,
   "metadata": {},
   "outputs": [],
   "source": []
  },
  {
   "cell_type": "code",
   "execution_count": null,
   "metadata": {},
   "outputs": [],
   "source": []
  },
  {
   "cell_type": "code",
   "execution_count": null,
   "metadata": {},
   "outputs": [],
   "source": []
  }
 ],
 "metadata": {
  "kernelspec": {
   "display_name": "Python 3.8.13 ('spark': conda)",
   "language": "python",
   "name": "python3"
  },
  "language_info": {
   "codemirror_mode": {
    "name": "ipython",
    "version": 3
   },
   "file_extension": ".py",
   "mimetype": "text/x-python",
   "name": "python",
   "nbconvert_exporter": "python",
   "pygments_lexer": "ipython3",
   "version": "3.8.13"
  },
  "orig_nbformat": 4,
  "vscode": {
   "interpreter": {
    "hash": "5f790b4a701f1c653f6ef655ac0b07d494dcb1296b5b13bc6ed0f3f67f6d2467"
   }
  }
 },
 "nbformat": 4,
 "nbformat_minor": 2
}
